{
 "cells": [
  {
   "cell_type": "markdown",
   "metadata": {},
   "source": [
    "# Exemplos de Matrizes"
   ]
  },
  {
   "cell_type": "markdown",
   "metadata": {},
   "source": [
    "### Analise a matriz abaixo.\n",
    "\n",
    "A figura abaixo representa uma matriz 3x3. Esta matriz tem um total de três linhas e três colunas, o que nos leva a compreender que ela apresenta 9 \"células\" possíveis.\n",
    "\n",
    "\n",
    "![title](img/aula_09_img_matriz.png)"
   ]
  },
  {
   "cell_type": "markdown",
   "metadata": {},
   "source": [
    "O código abaixo representa a matriz da figura em linguagem Python."
   ]
  },
  {
   "cell_type": "code",
   "execution_count": 9,
   "metadata": {},
   "outputs": [],
   "source": [
    "turma = [[4.5, 8.0, 9.0], [7.0, 9.0, 10.0], [5.0, 5.6, 10.0]]"
   ]
  },
  {
   "cell_type": "code",
   "execution_count": 10,
   "metadata": {},
   "outputs": [
    {
     "name": "stdout",
     "output_type": "stream",
     "text": [
      "[[10.0, 9.5, 8.9], [7.5, 9.6, 8.0]]\n"
     ]
    }
   ],
   "source": [
    "#Exemplo 2 de Matriz - \"Uma lista de listas\"\n",
    "\n",
    "notas_de_messias = [[10.0, 9.5, 8.9], [7.5, 9.6, 8.0]]\n",
    "print(notas_de_messias)"
   ]
  },
  {
   "cell_type": "markdown",
   "metadata": {},
   "source": [
    "## Acessando o valor em uma matriz"
   ]
  },
  {
   "cell_type": "code",
   "execution_count": 11,
   "metadata": {},
   "outputs": [
    {
     "name": "stdout",
     "output_type": "stream",
     "text": [
      "['Vasco', 'Botafogo', 'Flamengo', 'Fluminense']\n"
     ]
    }
   ],
   "source": [
    "times_de_futebol = ['Vasco', 'Botafogo', 'Flamengo', 'Fluminense']\n",
    "print(times_de_futebol)"
   ]
  },
  {
   "cell_type": "code",
   "execution_count": 13,
   "metadata": {},
   "outputs": [
    {
     "name": "stdout",
     "output_type": "stream",
     "text": [
      "Vasco\n"
     ]
    }
   ],
   "source": [
    "print(times_de_futebol[0])"
   ]
  },
  {
   "cell_type": "markdown",
   "metadata": {},
   "source": [
    "![title](img/aula_09_img_matriz1.png)"
   ]
  },
  {
   "cell_type": "code",
   "execution_count": 14,
   "metadata": {},
   "outputs": [
    {
     "data": {
      "text/plain": [
       "8.0"
      ]
     },
     "execution_count": 14,
     "metadata": {},
     "output_type": "execute_result"
    }
   ],
   "source": [
    "turma[0][1]"
   ]
  },
  {
   "cell_type": "code",
   "execution_count": 15,
   "metadata": {},
   "outputs": [
    {
     "data": {
      "text/plain": [
       "10.0"
      ]
     },
     "execution_count": 15,
     "metadata": {},
     "output_type": "execute_result"
    }
   ],
   "source": [
    "turma[2][2]"
   ]
  },
  {
   "cell_type": "code",
   "execution_count": 16,
   "metadata": {},
   "outputs": [
    {
     "data": {
      "text/plain": [
       "9.0"
      ]
     },
     "execution_count": 16,
     "metadata": {},
     "output_type": "execute_result"
    }
   ],
   "source": [
    "turma[1][1]"
   ]
  },
  {
   "cell_type": "code",
   "execution_count": 17,
   "metadata": {},
   "outputs": [
    {
     "name": "stdout",
     "output_type": "stream",
     "text": [
      "[4.5, 8.0, 9.0]\n",
      "[7.0, 9.0, 10.0]\n",
      "[5.0, 5.6, 10.0]\n"
     ]
    }
   ],
   "source": [
    "for linha in turma:\n",
    "    print(linha)        "
   ]
  },
  {
   "cell_type": "code",
   "execution_count": 18,
   "metadata": {},
   "outputs": [
    {
     "name": "stdout",
     "output_type": "stream",
     "text": [
      "4.5\n",
      "8.0\n",
      "9.0\n",
      "7.0\n",
      "9.0\n",
      "10.0\n",
      "5.0\n",
      "5.6\n",
      "10.0\n"
     ]
    }
   ],
   "source": [
    "for linha in turma:\n",
    "    for coluna in linha:\n",
    "        print(coluna)        "
   ]
  },
  {
   "cell_type": "code",
   "execution_count": 19,
   "metadata": {},
   "outputs": [],
   "source": [
    "matriz_3d = [[[1, 2], [3,4], [5,6]],[[7,8], [9, 10], [11, 12]],[[13, 14],[15, 16], [17, 18]]]"
   ]
  },
  {
   "cell_type": "code",
   "execution_count": 20,
   "metadata": {},
   "outputs": [
    {
     "name": "stdout",
     "output_type": "stream",
     "text": [
      "1\n",
      "2\n",
      "3\n",
      "4\n",
      "5\n",
      "6\n",
      "7\n",
      "8\n",
      "9\n",
      "10\n",
      "11\n",
      "12\n",
      "13\n",
      "14\n",
      "15\n",
      "16\n",
      "17\n",
      "18\n"
     ]
    }
   ],
   "source": [
    "for linha in matriz_3d:\n",
    "    for coluna in linha:\n",
    "        for profundidade in coluna:\n",
    "            print(profundidade)"
   ]
  },
  {
   "cell_type": "markdown",
   "metadata": {},
   "source": [
    "## Questões de Exemplo"
   ]
  },
  {
   "cell_type": "markdown",
   "metadata": {},
   "source": [
    "1) Leia uma matriz 10 x 10 e escreva a localização (linha e a coluna) do maior valor."
   ]
  },
  {
   "cell_type": "code",
   "execution_count": 22,
   "metadata": {},
   "outputs": [
    {
     "name": "stdout",
     "output_type": "stream",
     "text": [
      "[8892, 501, 9912, 4236, 547, 9996, 3110, 5821, 9290, 5097]\n",
      "[9804, 6261, 550, 7867, 3295, 6388, 8097, 4285, 2492, 6882]\n",
      "[4871, 8519, 311, 1226, 5115, 5010, 4005, 6318, 4866, 2486]\n",
      "[5605, 3417, 8910, 9654, 7275, 9463, 7938, 1011, 9257, 9905]\n",
      "[2929, 9100, 4294, 4383, 4152, 8984, 645, 1726, 5713, 2424]\n",
      "[6639, 6925, 9988, 468, 9693, 1772, 8608, 5717, 8663, 3122]\n",
      "[67, 4126, 2569, 8490, 7218, 5605, 1685, 7584, 3237, 2294]\n",
      "[8183, 5794, 2685, 6811, 3117, 788, 9378, 3551, 983, 6835]\n",
      "[2188, 215, 7911, 2317, 2137, 7325, 8019, 1102, 6264, 8049]\n",
      "[7533, 2972, 3198, 1409, 3637, 1901, 7088, 8481, 4338, 1445]\n"
     ]
    }
   ],
   "source": [
    "from random import randint\n",
    "\n",
    "matriz_10x10 = []\n",
    "\n",
    "for linha in range(10):\n",
    "    linha = []\n",
    "    \n",
    "    for coluna in range(10):\n",
    "        linha.append(randint(0, 10000))\n",
    "        \n",
    "    matriz_10x10.append(linha)\n",
    "\n",
    "for linha_matriz in matriz_10x10:\n",
    "    print(linha_matriz)"
   ]
  },
  {
   "cell_type": "code",
   "execution_count": 23,
   "metadata": {},
   "outputs": [
    {
     "name": "stdout",
     "output_type": "stream",
     "text": [
      "9996\n"
     ]
    }
   ],
   "source": [
    "maior_valor = 0\n",
    "\n",
    "for linha in matriz_10x10:\n",
    "    for coluna in linha:\n",
    "        if maior_valor < coluna:\n",
    "            maior_valor = coluna\n",
    "\n",
    "print(maior_valor)"
   ]
  },
  {
   "cell_type": "markdown",
   "metadata": {},
   "source": [
    "DESAFIO DA QUESTÃO 1 | Agora, não esqueça de informar qual é a posição deste maior valor."
   ]
  },
  {
   "cell_type": "markdown",
   "metadata": {},
   "source": [
    "2) Declare uma matriz 5 x 5. Preencha com 1 a diagonal principal e com 0 os demais elementos. Escreva ao final a matriz obtida."
   ]
  },
  {
   "cell_type": "code",
   "execution_count": 24,
   "metadata": {},
   "outputs": [],
   "source": [
    "matriz_5x5 = []"
   ]
  },
  {
   "cell_type": "code",
   "execution_count": 25,
   "metadata": {},
   "outputs": [],
   "source": [
    "for linha in range(5):\n",
    "    mlinha = []\n",
    "    for coluna in range(5):\n",
    "        if linha == coluna:\n",
    "            mlinha.append(1)\n",
    "        else:\n",
    "            mlinha.append(0)\n",
    "            \n",
    "    matriz_5x5.append(mlinha)        "
   ]
  },
  {
   "cell_type": "code",
   "execution_count": 26,
   "metadata": {},
   "outputs": [
    {
     "name": "stdout",
     "output_type": "stream",
     "text": [
      "[1, 0, 0, 0, 0]\n",
      "[0, 1, 0, 0, 0]\n",
      "[0, 0, 1, 0, 0]\n",
      "[0, 0, 0, 1, 0]\n",
      "[0, 0, 0, 0, 1]\n"
     ]
    }
   ],
   "source": [
    "for linha in matriz_5x5:\n",
    "    print(linha)"
   ]
  },
  {
   "cell_type": "markdown",
   "metadata": {},
   "source": [
    "3) Ler uma matriz D 5 x 5 (considere que não serão informados valores duplicados). A seguir ler um\n",
    "número X e escreva uma mensagem indicando se o valor de X existe ou NÃO na matriz."
   ]
  },
  {
   "cell_type": "markdown",
   "metadata": {},
   "source": [
    "DESAFIO | Consutra uma matriz 10 x 10 com valores randômicos. A matriz não pode ter valores repetidos.\n",
    "\n",
    "Depois apresente:\n",
    "\n",
    "a) o resultado da soma de todos os valores da matriz;\n",
    "\n",
    "b) o resultado da soma dos valores da diagonal principal;\n",
    "\n",
    "c) o resultado da soma dos valores da diagonal secundária;\n",
    "\n",
    "d) o resultado da soma da coluna central;"
   ]
  }
 ],
 "metadata": {
  "kernelspec": {
   "display_name": "Python 3",
   "language": "python",
   "name": "python3"
  },
  "language_info": {
   "codemirror_mode": {
    "name": "ipython",
    "version": 3
   },
   "file_extension": ".py",
   "mimetype": "text/x-python",
   "name": "python",
   "nbconvert_exporter": "python",
   "pygments_lexer": "ipython3",
   "version": "3.7.6"
  }
 },
 "nbformat": 4,
 "nbformat_minor": 2
}
