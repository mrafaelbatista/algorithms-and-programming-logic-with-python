{
 "cells": [
  {
   "cell_type": "markdown",
   "metadata": {},
   "source": [
    "# Lista de exercícios\n",
    "## condicional simples, condicional composta, laços de repetição"
   ]
  },
  {
   "cell_type": "markdown",
   "metadata": {},
   "source": [
    "<b>Questão 1 - Ler um valor e escrever se é positivo, negativo ou zero.</b>"
   ]
  },
  {
   "cell_type": "code",
   "execution_count": 6,
   "metadata": {},
   "outputs": [
    {
     "name": "stdout",
     "output_type": "stream",
     "text": [
      "Digite um número inteiro: 0\n",
      "O 0 é igual a ZERO\n"
     ]
    }
   ],
   "source": [
    "numero = int(input(\"Digite um número inteiro: \"))\n",
    "\n",
    "if numero > 0:\n",
    "    print(\"O número {} é igual POSITIVO\".format(numero) )\n",
    "elif numero < 0:\n",
    "    print(\"O número {} é igual NEGATIVO\".format(numero) )\n",
    "else:\n",
    "    print(\"O número {} é igual a ZERO\".format(numero) )"
   ]
  },
  {
   "cell_type": "markdown",
   "metadata": {},
   "source": [
    "<b>Questão 2 - Ler 3 valores (considere que não serão informados valores iguais) e escrever o maior deles."
   ]
  },
  {
   "cell_type": "code",
   "execution_count": 9,
   "metadata": {},
   "outputs": [
    {
     "name": "stdout",
     "output_type": "stream",
     "text": [
      "Digite um número inteiro: 10\n",
      "Digite um número inteiro: 30\n",
      "Digite um número inteiro: 20\n",
      "O SEGUNDO NÚMERO é o maior\n"
     ]
    }
   ],
   "source": [
    "primeiro_numero = int(input(\"Digite um número inteiro: \"))\n",
    "segundo_numero = int(input(\"Digite um número inteiro: \"))\n",
    "terceiro_numero = int(input(\"Digite um número inteiro: \"))\n",
    "\n",
    "if primeiro_numero > segundo_numero and primeiro_numero > terceiro_numero:\n",
    "    print(\"O PRIMEIRO NÚMERO é o maior\")\n",
    "elif segundo_numero > primeiro_numero and segundo_numero > terceiro_numero:\n",
    "    print(\"O SEGUNDO NÚMERO é o maior\")\n",
    "elif terceiro_numero > primeiro_numero and terceiro_numero > segundo_numero:\n",
    "    print(\"O TERCEIRO NÚMERO é o maior\")"
   ]
  },
  {
   "cell_type": "markdown",
   "metadata": {},
   "source": [
    "Questão 3 -  Ler o nome de 2 times e o número de gols marcados na partida (para cada time). Escrever o nome\n",
    "do vencedor. Caso não haja vencedor deverá ser impressa a palavra EMPATE. <b>(RESOLVER QUANDO VER AULA DE DICIONÁRIO)</b>"
   ]
  },
  {
   "cell_type": "markdown",
   "metadata": {},
   "source": [
    "<b>Questão 4 - Ler dois valores e imprimir uma das três mensagens a seguir:</b>\n",
    "<br />‘Números iguais’, caso os números sejam iguais\n",
    "<br />‘Primeiro é maior’, caso o primeiro seja maior que o segundo;\n",
    "<br />‘Segundo maior’, caso o segundo seja maior que o primeiro. "
   ]
  },
  {
   "cell_type": "markdown",
   "metadata": {},
   "source": [
    "<b> Questão 5 - Faça um algoritmo para ler: a descrição do produto (nome), a quantidade adquirida e o preço\n",
    "unitário. Calcular e escrever o total (total = quantidade adquirida * preço unitário), o desconto e o total\n",
    "a pagar (total a pagar = total - desconto), sabendo-se que:</b>\n",
    "<ul>\n",
    "<ol>Se quantidade <= 5 o desconto será de 2% </ol>\n",
    "<ol>Se quantidade > 5 e quantidade <=10 o desconto será de 3%</ol>\n",
    "<ol>Se quantidade > 10 o desconto será de 5% </ol>\n",
    "</ul>"
   ]
  },
  {
   "cell_type": "markdown",
   "metadata": {},
   "source": [
    "<b>Questão 6 - Escreva um algoritmo para imprimir os números de 1 (inclusive) a 10 (inclusive) em ordem\n",
    "crescente."
   ]
  },
  {
   "cell_type": "markdown",
   "metadata": {},
   "source": [
    "<b>Questão 7 - Escreva um algoritmo para imprimir os números de 1 (inclusive) a 10 (inclusive) em ordem\n",
    "decrescente."
   ]
  },
  {
   "cell_type": "markdown",
   "metadata": {},
   "source": [
    "<b>Questão 8 - Ler um valor N e imprimir todos os valores inteiros entre 1 (inclusive) e N (inclusive). Considere\n",
    "que o N será sempre maior que ZERO. "
   ]
  }
 ],
 "metadata": {
  "kernelspec": {
   "display_name": "Python 3",
   "language": "python",
   "name": "python3"
  },
  "language_info": {
   "codemirror_mode": {
    "name": "ipython",
    "version": 3
   },
   "file_extension": ".py",
   "mimetype": "text/x-python",
   "name": "python",
   "nbconvert_exporter": "python",
   "pygments_lexer": "ipython3",
   "version": "3.7.4"
  }
 },
 "nbformat": 4,
 "nbformat_minor": 2
}
