{
 "cells": [
  {
   "cell_type": "markdown",
   "metadata": {},
   "source": [
    "# Exercícios de Vetores e Matrizes"
   ]
  },
  {
   "cell_type": "code",
   "execution_count": 12,
   "metadata": {},
   "outputs": [],
   "source": [
    "turma = [[4.5, 8.0, 9.0], [7.0, 9.0, 10.0], [5.0, 5.6, 10.0]]"
   ]
  },
  {
   "cell_type": "code",
   "execution_count": 14,
   "metadata": {},
   "outputs": [
    {
     "data": {
      "text/plain": [
       "8.0"
      ]
     },
     "execution_count": 14,
     "metadata": {},
     "output_type": "execute_result"
    }
   ],
   "source": [
    "turma[0][1]"
   ]
  },
  {
   "cell_type": "code",
   "execution_count": 16,
   "metadata": {},
   "outputs": [
    {
     "name": "stdout",
     "output_type": "stream",
     "text": [
      "[4.5, 8.0, 9.0]\n",
      "[7.0, 9.0, 10.0]\n",
      "[5.0, 5.6, 10.0]\n"
     ]
    }
   ],
   "source": [
    "for linha in turma:\n",
    "    print(linha)        "
   ]
  },
  {
   "cell_type": "code",
   "execution_count": 18,
   "metadata": {},
   "outputs": [
    {
     "name": "stdout",
     "output_type": "stream",
     "text": [
      "4.5\n",
      "8.0\n",
      "9.0\n",
      "7.0\n",
      "9.0\n",
      "10.0\n",
      "5.0\n",
      "5.6\n",
      "10.0\n"
     ]
    }
   ],
   "source": [
    "for linha in turma:\n",
    "    for coluna in linha:\n",
    "        print(coluna)        "
   ]
  },
  {
   "cell_type": "code",
   "execution_count": 19,
   "metadata": {},
   "outputs": [],
   "source": [
    "matriz_3d = [[[1, 2], [3,4], [5,6]],[[7,8], [9, 10], [11, 12]],[[13, 14],[15, 16], [17, 18]]]"
   ]
  },
  {
   "cell_type": "code",
   "execution_count": 20,
   "metadata": {},
   "outputs": [
    {
     "name": "stdout",
     "output_type": "stream",
     "text": [
      "1\n",
      "2\n",
      "3\n",
      "4\n",
      "5\n",
      "6\n",
      "7\n",
      "8\n",
      "9\n",
      "10\n",
      "11\n",
      "12\n",
      "13\n",
      "14\n",
      "15\n",
      "16\n",
      "17\n",
      "18\n"
     ]
    }
   ],
   "source": [
    "for linha in matriz_3d:\n",
    "    for coluna in linha:\n",
    "        for profundidade in coluna:\n",
    "            print(profundidade)"
   ]
  },
  {
   "cell_type": "markdown",
   "metadata": {},
   "source": [
    "1) Escreva um algoritmo que permita a leitura dos nomes de 10 pessoas e armazenem os nomes lidos em um vetor. Após isto, o algoritmo deve permitir a leitura de mais 1 nome qualquer de pessoa e depois escrever a mensagem ACHEI, se o nome estiver entre os 10 nomes lidos anteriormente (guardados no vetor), ou NÃO ACHEI caso contrário."
   ]
  },
  {
   "cell_type": "code",
   "execution_count": 14,
   "metadata": {},
   "outputs": [
    {
     "name": "stdout",
     "output_type": "stream",
     "text": [
      "Digite o nome de uma pessoa: Carlos\n",
      "Digite o nome de uma pessoa: Anderson\n",
      "Digite o nome de uma pessoa: Daniel\n"
     ]
    }
   ],
   "source": [
    "x = 0\n",
    "vet_nomes = []\n",
    "\n",
    "while x < 3:\n",
    "    vet_nomes.append(str(input(\"Digite o nome de uma pessoa: \"))\n",
    "                     .upper())\n",
    "    x += 1"
   ]
  },
  {
   "cell_type": "code",
   "execution_count": 2,
   "metadata": {},
   "outputs": [
    {
     "name": "stdout",
     "output_type": "stream",
     "text": [
      "['ANDERSON', 'CARLOS']\n"
     ]
    }
   ],
   "source": [
    "print(vet_nomes)"
   ]
  },
  {
   "cell_type": "code",
   "execution_count": 16,
   "metadata": {},
   "outputs": [
    {
     "name": "stdout",
     "output_type": "stream",
     "text": [
      "Deseja verificar alguém na lista? Mailson\n"
     ]
    }
   ],
   "source": [
    "find_name = str(input(\"Deseja verificar alguém na lista? \")).upper()"
   ]
  },
  {
   "cell_type": "code",
   "execution_count": 17,
   "metadata": {},
   "outputs": [
    {
     "name": "stdout",
     "output_type": "stream",
     "text": [
      "Não achei MAILSON na lista de presentes\n"
     ]
    }
   ],
   "source": [
    "controle = 0\n",
    "\n",
    "for name in vet_nomes:\n",
    "    \n",
    "    if name == find_name:\n",
    "        print(\"Achei o nome \" + str(name) + \" presente na lista\")\n",
    "        controle = 0\n",
    "        break    \n",
    "    else:\n",
    "        controle = 1\n",
    "\n",
    "if controle ==  1:\n",
    "    print(\"Não achei \" + str(find_name) + \" na lista de presentes\")"
   ]
  },
  {
   "cell_type": "markdown",
   "metadata": {},
   "source": [
    "2) Escreva um algoritmo que permita a leitura das notas de uma turma de 20 alunos. Calcular a média da turma e contar quantos alunos obtiveram nota acima desta média calculada. Escrever a média da turma e o resultado da contagem."
   ]
  },
  {
   "cell_type": "code",
   "execution_count": 18,
   "metadata": {},
   "outputs": [
    {
     "name": "stdout",
     "output_type": "stream",
     "text": [
      "Digite a nota do aluno [0] 10.0\n",
      "Digite a nota do aluno [1] 5.0\n",
      "Digite a nota do aluno [2] 4.5\n"
     ]
    }
   ],
   "source": [
    "x = 0\n",
    "notas = []\n",
    "\n",
    "while x < 3:\n",
    "    notas.append(float(input(\"Digite a nota do aluno [\" \n",
    "                             + str(x) + \"] \")))\n",
    "    x += 1"
   ]
  },
  {
   "cell_type": "code",
   "execution_count": 20,
   "metadata": {},
   "outputs": [
    {
     "name": "stdout",
     "output_type": "stream",
     "text": [
      "Digite a nota do aluno CARLOS4.5\n",
      "Digite a nota do aluno ANDERSON7.5\n",
      "Digite a nota do aluno DANIEL5.5\n"
     ]
    }
   ],
   "source": [
    "for name in vet_nomes:\n",
    "    notas.append(float(input(\"Digite a nota do aluno \" \n",
    "                             + str(name) + \" :\" )))"
   ]
  },
  {
   "cell_type": "code",
   "execution_count": 21,
   "metadata": {},
   "outputs": [
    {
     "name": "stdout",
     "output_type": "stream",
     "text": [
      "[10.0, 5.0, 4.5, 4.5, 7.5, 5.5]\n"
     ]
    }
   ],
   "source": [
    "print(notas)"
   ]
  },
  {
   "cell_type": "code",
   "execution_count": 24,
   "metadata": {},
   "outputs": [
    {
     "name": "stdout",
     "output_type": "stream",
     "text": [
      "O valor da média é: 6.166666666666667 e o número de alunos que tiveram nota positiva são: 2\n"
     ]
    }
   ],
   "source": [
    "soma_notas = 0\n",
    "acima_da_media = 0\n",
    "\n",
    "for nota in notas:\n",
    "    if nota >= 7:\n",
    "        acima_da_media += 1\n",
    "    \n",
    "    soma_notas += nota\n",
    "\n",
    "print(\"O valor da média é: \" + str((soma_notas / len(notas))) \n",
    "      + \" e o número de alunos que tiveram nota positiva são: \"\n",
    "     + str(acima_da_media))"
   ]
  },
  {
   "cell_type": "markdown",
   "metadata": {},
   "source": [
    "3) Ler um vetor Q de 20 posições (aceitar somente números positivos). Escrever a seguir o valor do maior elemento de Q e a respectiva posição que ele ocupa no vetor."
   ]
  },
  {
   "cell_type": "code",
   "execution_count": 39,
   "metadata": {},
   "outputs": [],
   "source": [
    "from random import randint\n",
    "\n",
    "x = 0\n",
    "q = []\n",
    "\n",
    "while x < 20:\n",
    "    q.append(randint(0,1000000))\n",
    "    x += 1"
   ]
  },
  {
   "cell_type": "code",
   "execution_count": 40,
   "metadata": {},
   "outputs": [
    {
     "name": "stdout",
     "output_type": "stream",
     "text": [
      "[745000, 404715, 682189, 983369, 715344, 771659, 409027, 562909, 184999, 580658, 186851, 65454, 988063, 826337, 980306, 612350, 906230, 234674, 38824, 872711]\n"
     ]
    }
   ],
   "source": [
    "print(q)"
   ]
  },
  {
   "cell_type": "code",
   "execution_count": 41,
   "metadata": {},
   "outputs": [
    {
     "name": "stdout",
     "output_type": "stream",
     "text": [
      "O maior valor é :988063\n",
      "e seu índece é :12\n"
     ]
    }
   ],
   "source": [
    "maior_valor = 0\n",
    "posicao_maior_valor = 0\n",
    "\n",
    "for valor in q:\n",
    "\n",
    "    if valor > maior_valor:\n",
    "        \n",
    "        maior_valor = valor\n",
    "        posicao_maior_valor = q.index(valor)\n",
    "        \n",
    "print(\"O maior valor é :\" + str(maior_valor) + \"\\n\" \n",
    "      + \"e seu índece é :\" + str(posicao_maior_valor))"
   ]
  },
  {
   "cell_type": "markdown",
   "metadata": {},
   "source": [
    "4) O mesmo exercício anterior, mas agora deve escrever o menor elemento do vetor e a respectiva posição dele nesse vetor."
   ]
  },
  {
   "cell_type": "markdown",
   "metadata": {},
   "source": [
    "5) Ler um vetor A de 10 números. Após, ler mais um número e guardar em uma variável X. Armazenar em um vetor M o resultado de cada elemento de A multiplicado pelo valor X. Logo após, imprimir o vetor M."
   ]
  },
  {
   "cell_type": "markdown",
   "metadata": {},
   "source": [
    "6) Faça um algoritmo para ler dois vetores V1 e V2 de 15 números cada. Calcular e escrever a quantidade de vezes que V1 e V2 possuem os mesmos números e nas mesmas posições."
   ]
  },
  {
   "cell_type": "code",
   "execution_count": 3,
   "metadata": {},
   "outputs": [
    {
     "name": "stdout",
     "output_type": "stream",
     "text": [
      "[5, 0, 0, 2, 0, 0, 4, 5, 5, 0, 2, 5, 0, 0, 0]\n",
      "[1, 5, 5, 3, 3, 4, 4, 2, 0, 4, 3, 0, 4, 1, 5]\n"
     ]
    }
   ],
   "source": [
    "from random import randint\n",
    "\n",
    "v1 = []\n",
    "v2 = []\n",
    "\n",
    "for n in range(15):\n",
    "    v1.append(randint(0, 5))\n",
    "    v2.append(randint(0, 5))\n",
    "\n",
    "print(v1)\n",
    "print(v2)"
   ]
  },
  {
   "cell_type": "code",
   "execution_count": 7,
   "metadata": {},
   "outputs": [
    {
     "name": "stdout",
     "output_type": "stream",
     "text": [
      "1\n"
     ]
    }
   ],
   "source": [
    "contador = 0\n",
    "\n",
    "for indice in range(0, (len(v1)-1)):\n",
    "    if v1[indice] == v2[indice]:\n",
    "        contador = contador + 1\n",
    "\n",
    "print(contador)   \n",
    "    \n",
    "    "
   ]
  },
  {
   "cell_type": "markdown",
   "metadata": {},
   "source": [
    "7) Faça um algoritmo para ler um vetor de 30 números. Após isto, ler mais um número qualquer, calcular e escrever quantas vezes esse número aparece no vetor."
   ]
  },
  {
   "cell_type": "markdown",
   "metadata": {},
   "source": [
    "8) Faça um algoritmo para ler 50 números e armazenar em um vetor VET, verificar e escrever se existem números repetidos no vetor VET e em que posições se encontram."
   ]
  },
  {
   "cell_type": "markdown",
   "metadata": {},
   "source": [
    "9) Leia uma matriz 10 x 10 e escreva a localização (linha e a coluna) do maior valor."
   ]
  },
  {
   "cell_type": "code",
   "execution_count": 23,
   "metadata": {},
   "outputs": [
    {
     "name": "stdout",
     "output_type": "stream",
     "text": [
      "[36, 179, 180, 292, 276, 423, 23, 472, 493, 488]\n",
      "[356, 160, 131, 416, 489, 205, 274, 448, 406, 356]\n",
      "[198, 378, 224, 344, 189, 242, 120, 116, 160, 338]\n",
      "[104, 263, 389, 482, 177, 36, 100, 342, 369, 78]\n",
      "[80, 44, 448, 169, 300, 371, 320, 132, 106, 428]\n",
      "[207, 372, 429, 275, 301, 263, 197, 250, 497, 232]\n",
      "[217, 492, 189, 95, 159, 500, 161, 403, 396, 29]\n",
      "[62, 249, 79, 70, 249, 358, 189, 252, 19, 495]\n",
      "[241, 0, 484, 54, 135, 16, 305, 72, 62, 125]\n",
      "[226, 277, 192, 16, 491, 172, 397, 353, 375, 243]\n"
     ]
    }
   ],
   "source": [
    "from random import randint\n",
    "\n",
    "matriz_10x10 = []\n",
    "\n",
    "for linha in range(0, 10):\n",
    "    \n",
    "    lista_para_matriz = []\n",
    "    \n",
    "    for coluna in range(0, 10):\n",
    "        lista_para_matriz.append(randint(0, 500))\n",
    "    \n",
    "    matriz_10x10.append(lista_para_matriz)\n",
    "\n",
    "for linha in matriz_10x10:\n",
    "    print(linha)"
   ]
  },
  {
   "cell_type": "code",
   "execution_count": 25,
   "metadata": {},
   "outputs": [
    {
     "name": "stdout",
     "output_type": "stream",
     "text": [
      "500\n"
     ]
    }
   ],
   "source": [
    "maior_valor = 0\n",
    "\n",
    "for linha in matriz_10x10:\n",
    "    for coluna in linha:\n",
    "        if maior_valor < coluna:\n",
    "            maior_valor = coluna\n",
    "\n",
    "print(maior_valor)"
   ]
  },
  {
   "cell_type": "markdown",
   "metadata": {},
   "source": [
    "10) Declare uma matriz 5 x 5. Preencha com 1 a diagonal principal e com 0 os demais elementos. Escreva ao final a matriz obtida."
   ]
  }
 ],
 "metadata": {
  "kernelspec": {
   "display_name": "Python 3",
   "language": "python",
   "name": "python3"
  },
  "language_info": {
   "codemirror_mode": {
    "name": "ipython",
    "version": 3
   },
   "file_extension": ".py",
   "mimetype": "text/x-python",
   "name": "python",
   "nbconvert_exporter": "python",
   "pygments_lexer": "ipython3",
   "version": "3.7.3"
  }
 },
 "nbformat": 4,
 "nbformat_minor": 2
}
