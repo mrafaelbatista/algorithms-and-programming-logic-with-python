{
 "cells": [
  {
   "cell_type": "markdown",
   "metadata": {},
   "source": [
    "# Lista de exercícios\n",
    "## condicional simples, condicional composta, laços de repetição"
   ]
  },
  {
   "cell_type": "markdown",
   "metadata": {},
   "source": [
    "<b>Questão 1 - Ler um valor e escrever se é positivo, negativo ou zero.</b>"
   ]
  },
  {
   "cell_type": "markdown",
   "metadata": {},
   "source": [
    "<b>Questão 2 - Ler 3 valores (considere que não serão informados valores iguais) e escrever o maior deles."
   ]
  },
  {
   "cell_type": "markdown",
   "metadata": {},
   "source": [
    "Questão 3 -  Ler o nome de 2 times e o número de gols marcados na partida (para cada time). Escrever o nome\n",
    "do vencedor. Caso não haja vencedor deverá ser impressa a palavra EMPATE. <b>(RESOLVER QUANDO VER AULA DE DICIONÁRIO)</b>"
   ]
  },
  {
   "cell_type": "markdown",
   "metadata": {},
   "source": [
    "<b>Questão 4 - Ler dois valores e imprimir uma das três mensagens a seguir:</b>\n",
    "<br />‘Números iguais’, caso os números sejam iguais\n",
    "<br />‘Primeiro é maior’, caso o primeiro seja maior que o segundo;\n",
    "<br />‘Segundo maior’, caso o segundo seja maior que o primeiro. "
   ]
  },
  {
   "cell_type": "markdown",
   "metadata": {},
   "source": [
    "<b> Questão 5 - Faça um algoritmo para ler: a descrição do produto (nome), a quantidade adquirida e o preço\n",
    "unitário. Calcular e escrever o total (total = quantidade adquirida * preço unitário), o desconto e o total\n",
    "a pagar (total a pagar = total - desconto), sabendo-se que:</b>\n",
    "<ul>\n",
    "<ol>Se quantidade <= 5 o desconto será de 2% </ol>\n",
    "<ol>Se quantidade > 5 e quantidade <=10 o desconto será de 3%</ol>\n",
    "<ol>Se quantidade > 10 o desconto será de 5% </ol>\n",
    "</ul>"
   ]
  },
  {
   "cell_type": "markdown",
   "metadata": {},
   "source": [
    "<b>Questão 6 - Escreva um algoritmo para imprimir os números de 1 (inclusive) a 10 (inclusive) em ordem\n",
    "crescente."
   ]
  },
  {
   "cell_type": "markdown",
   "metadata": {},
   "source": [
    "<b>Questão 7 - Escreva um algoritmo para imprimir os números de 1 (inclusive) a 10 (inclusive) em ordem\n",
    "decrescente."
   ]
  },
  {
   "cell_type": "markdown",
   "metadata": {},
   "source": [
    "<b>Questão 8 - Ler um valor N e imprimir todos os valores inteiros entre 1 (inclusive) e N (inclusive). Considere\n",
    "que o N será sempre maior que ZERO. "
   ]
  }
 ],
 "metadata": {
  "kernelspec": {
   "display_name": "Python 3",
   "language": "python",
   "name": "python3"
  },
  "language_info": {
   "codemirror_mode": {
    "name": "ipython",
    "version": 3
   },
   "file_extension": ".py",
   "mimetype": "text/x-python",
   "name": "python",
   "nbconvert_exporter": "python",
   "pygments_lexer": "ipython3",
   "version": "3.7.6"
  }
 },
 "nbformat": 4,
 "nbformat_minor": 2
}
