{
 "cells": [
  {
   "cell_type": "markdown",
   "metadata": {},
   "source": [
    "# Aula 06.1 -  Desvio condicional composto"
   ]
  },
  {
   "cell_type": "markdown",
   "metadata": {},
   "source": [
    "\"Com frequência você vai querer executar uma ação quando um teste condicional passar, e uma ação diferente em todos os demais casos. A sintaxe <b>if-else</b> do Python torna isso possível\""
   ]
  },
  {
   "cell_type": "markdown",
   "metadata": {},
   "source": [
    "\"Um bloco <b>if-else</b> é semelhante a uma instrução if simples, porém a instrução else permite definir uma ação ou um conjunto de ações executado quando o teste condicional falhar\""
   ]
  },
  {
   "cell_type": "code",
   "execution_count": null,
   "metadata": {},
   "outputs": [],
   "source": [
    "idade = 55"
   ]
  },
  {
   "cell_type": "code",
   "execution_count": null,
   "metadata": {},
   "outputs": [],
   "source": [
    "if idade >= 16:\n",
    "    print(\"Você já pode votar nas próximas eleições\")\n",
    "    print(\"Se for seu desejo, procure a justiça eleitoral\")\n",
    "else:\n",
    "    print(\"Verifique sua idade quando estiver no ano das eleições \")"
   ]
  },
  {
   "cell_type": "code",
   "execution_count": null,
   "metadata": {},
   "outputs": [],
   "source": [
    "if idade >= 16:\n",
    "    print(\"Legal, você já pode votar!\")\n",
    "elif idade < 10:\n",
    "    print(\"Vá assistir Encontro com Fatinha!!!\")\n",
    "else:\n",
    "    print(\"Brother, você ainda é um boy, vá tirar a catinga do mijo\")  \n",
    "        "
   ]
  },
  {
   "cell_type": "markdown",
   "metadata": {},
   "source": [
    "## Exercícios"
   ]
  },
  {
   "cell_type": "markdown",
   "metadata": {},
   "source": [
    "1) Cores de alienígenas 1: Suponha que um alienígica acaboud e ser atingido em um jogo. Crie uma variável chamada alien_color e atribua-lhe um valor igual a green, yellow ou red.\n",
    "\n",
    "a) Escreva uma instrução if para testar se a cor do alienígica é verde. Se for, mostre uma mensagem informando que o jogador acabou de ganhar cinco pontos.\n",
    "\n",
    "b) Escreva uma versão desse programa que o teste if passe e outro em que ele falhe. (A versão que falha não terá nenhuma saída)\n"
   ]
  },
  {
   "cell_type": "markdown",
   "metadata": {},
   "source": [
    "2) Cores alieníginas 2: Escolha uma for para um alienígica, como feito no exercício anterior, e escreva uma cadeia if-else.\n",
    "\n",
    "a) Se a cor do alienígica for verde, mostre uma frase informando que o jogador acabou de ganhar cinco ponto por atingir o alienígina.\n",
    "\n",
    "b) Se a cor do alienígina não for verde, mostre uma frase informando que o jogador acabou de ganhar dez pontos.\n",
    "\n",
    "c) Escreva uma versão desse programa que execute o bloco if e outro que execute o bloco else."
   ]
  },
  {
   "cell_type": "markdown",
   "metadata": {},
   "source": [
    "3) Cores alieníginas 3: Transforme sua cadeia if-else do exercício anterior em uma cadeia if-elif-else.\n",
    "\n",
    "a) Se o alienígena for verse, mostre uma mensagem informando que o jogar ganhou cinco pontos.\n",
    "\n",
    "b) Se o alienígena for amarelo, mostre uma mensagem informando que o jogador ganhou dez pontos.\n",
    "\n",
    "c) Se o alienígina for vermelho, mostre uma mensagem informando que o jogador ganhou quinze pontos.\n",
    "\n",
    "d) Escreva três versões desse programa, garantindo que cada mensagem seja exibida para a cor apropriada do alienígena."
   ]
  },
  {
   "cell_type": "markdown",
   "metadata": {},
   "source": [
    "4) Estágio da vida: Escreva uma cadeia if-elif-else que determine o estágio da vida de uma pessoa. Defina um valor para a variável idade e então:\n",
    "\n",
    "a) Se a pessoa tiver menos de 2 anos de idade, mostre uma mensagem dizendo que ela é um bebê.\n",
    "\n",
    "b) Se a pessoa tiver pelo menos 2 anos e menos que 4 anos, mostre uma mensagem dizendo que ela é uma criança.\n",
    "\n",
    "c) Se a pessoa tiver pelo menos 4 anos, mas menos de 13, mostre uma mensagem dizendo que ela é um(a) garoto(a).\n",
    "\n",
    "d) Se a pessoa tiver pelo menso 13 anos, mas menos de 20, mostre uma mensagem dizendo que ela é um(a) adolescente.\n",
    "\n",
    "e) Se a pessoa tiver pelo menos 20 anos, mas menos de 65, mostre uma mensagem dizendo que ela é um adulto.\n",
    "\n",
    "f) Se a pessoa tiver 65 ou mais, mostre uma mensagem dizendo que essa pessoa é idoso."
   ]
  },
  {
   "cell_type": "markdown",
   "metadata": {},
   "source": [
    "5) Faça uma lista de suas frutas favoritos e, então, escreva uma série de instruções if independente que verifiquem se determinadas frutas estão em sua lista.\n",
    "\n",
    "a) Crie uma lista com suas três frutas favoritas e chame-a de favorite_fruits.\n",
    "\n",
    "b) Escreva cinco instruções f. Cada instruçãodeve verificar se uma determinada fruta está em sua lista. Se estiver, o bloco if deverá exibir uma frase, por exemplo, Você realmente gosta de bananas!"
   ]
  },
  {
   "cell_type": "markdown",
   "metadata": {},
   "source": [
    "6) Escreva um programa para ler o ano de nascimento de uma pessoa e escrever a mensagem que diga se ela poderá ou não votar em 2020 (não é necessário considerar o mês que ela nasceu)."
   ]
  },
  {
   "cell_type": "markdown",
   "metadata": {},
   "source": [
    "7) Escreva um programa que verifique a validade de uma senha fornecida pelo usuário. A senha válidade é o número 1234. Devem ser impressas as mensagens:\n",
    "\n",
    "ACESSO PERMITIDO - Caso a senha seja válida\n",
    "\n",
    "ACESSO NEGADO - Caso a senha seja inválida"
   ]
  }
 ],
 "metadata": {
  "kernelspec": {
   "display_name": "Python 3",
   "language": "python",
   "name": "python3"
  },
  "language_info": {
   "codemirror_mode": {
    "name": "ipython",
    "version": 3
   },
   "file_extension": ".py",
   "mimetype": "text/x-python",
   "name": "python",
   "nbconvert_exporter": "python",
   "pygments_lexer": "ipython3",
   "version": "3.7.4"
  }
 },
 "nbformat": 4,
 "nbformat_minor": 2
}
