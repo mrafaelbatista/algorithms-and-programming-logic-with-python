{
 "cells": [
  {
   "cell_type": "markdown",
   "metadata": {},
   "source": [
    "# Exercícios de revisão"
   ]
  },
  {
   "cell_type": "markdown",
   "metadata": {},
   "source": [
    "Realize todos os exercícios para revisar o conteúdo estudado até o momento. Questões destes exercícios podem ser utilizado na nossa avaliação. Qualquer dúvida envie um email para mrafaelbatista@faculdadedetimbauba.edu.br"
   ]
  },
  {
   "cell_type": "markdown",
   "metadata": {},
   "source": [
    "Questão 1 - Tendo como entrada a altura e o sexo (codificado da seguinte forma: 1:feminino 2:masculino) de uma pessoa, construa um programa que calcule e imprima seu peso ideal, utilizando as seguintes fórmulas.\n",
    "\n",
    "<strong>Fórmulas:</strong>\n",
    "- para homens: (72.7 * Altura) – 58\n",
    "- para mulheres: (62.1 * Altura) – 44.7"
   ]
  },
  {
   "cell_type": "markdown",
   "metadata": {},
   "source": [
    "Questão 2 - Escreva um programa para ler o número de lados de um polígono regular e a medida do lado (em cm). Calcular e imprimir o seguinte:\n",
    "\n",
    "− Se o número de lados for igual a 3 escrever TRIÂNGULO e o valor da área\n",
    "\n",
    "− Se o número de lados for igual a 4 escrever QUADRADO e o valor da sua área.\n",
    "\n",
    "− Se o número de lados for igual a 5 escrever PENTÁGONO."
   ]
  },
  {
   "cell_type": "markdown",
   "metadata": {},
   "source": [
    "Questão 3 - Acrescente as seguintes mensagens à solução do exercício anterior conforme o caso.\n",
    "\n",
    "− Caso o número de lados seja inferior a 3 escrever NÃO É UM POLÍGONO.\n",
    "\n",
    "− Caso o número de lados seja superior a 5 escrever POLÍGONO NÃO IDENTIFICADO."
   ]
  },
  {
   "cell_type": "markdown",
   "metadata": {},
   "source": [
    "Questão 4 - Escreva um programa que leia as medidas dos lados de um triângulo e escreva se ele é Equilátero, Isósceles ou Escaleno. Sendo que:\n",
    "\n",
    "    − Triângulo Equilátero: possui os 3 lados iguais.\n",
    "    \n",
    "    − Triângulo Isóscele: possui 2 lados iguais.\n",
    "\n",
    "    − Triângulo Escaleno: possui 3 lados diferentes."
   ]
  },
  {
   "cell_type": "markdown",
   "metadata": {},
   "source": [
    "Questão 5 - Escreva um programa que leia o valor de 3 ângulos de um triângulo e escreva se o triângulo é Acutângulo, Retângulo ou Obtusângulo. Sendo que:\n",
    "\n",
    "− Triângulo Retângulo: possui um ângulo reto. (igual a 90º)\n",
    "\n",
    "− Triângulo Obtusângulo: possui um ângulo obtuso. (maior que90º)\n",
    "\n",
    "− Triângulo Acutângulo: possui três ângulos agudos. (menor que 90º)\n",
    "\n"
   ]
  },
  {
   "cell_type": "markdown",
   "metadata": {},
   "source": [
    "Questão 6 - Faça um Programa que verifique se uma letra digitada é vogal ou consoante."
   ]
  },
  {
   "cell_type": "markdown",
   "metadata": {},
   "source": [
    "Questão 7 - As Organizações Tabajara resolveram dar um aumento de salário aos seus colaboradores e lhe contraram para desenvolver o programa que calculará os reajustes.\n",
    "\n",
    "Faça um programa que recebe o salário de um colaborador e o reajuste segundo o seguinte critério, baseado no salário atual:\n",
    "\n",
    "- salários até 280,00 (incluindo) : aumento de 20%\n",
    "\n",
    "- salários entre 280,01 e 700,00 : aumento de 15%\n",
    "\n",
    "- salários entre 700,01 e 1500,00 : aumento de 10%\n",
    "\n",
    "- salários de 1500,01 em diante : aumento de 5%\n",
    "\n",
    "Após o aumento ser realizado, informe na tela:\n",
    "\n",
    "- o salário antes do reajuste;\n",
    "\n",
    "- o percentual de aumento aplicado;\n",
    "\n",
    "- o valor do aumento;\n",
    "\n",
    "- o novo salário, após o aumento."
   ]
  }
 ],
 "metadata": {
  "kernelspec": {
   "display_name": "Python 3",
   "language": "python",
   "name": "python3"
  },
  "language_info": {
   "codemirror_mode": {
    "name": "ipython",
    "version": 3
   },
   "file_extension": ".py",
   "mimetype": "text/x-python",
   "name": "python",
   "nbconvert_exporter": "python",
   "pygments_lexer": "ipython3",
   "version": "3.7.4"
  }
 },
 "nbformat": 4,
 "nbformat_minor": 2
}
